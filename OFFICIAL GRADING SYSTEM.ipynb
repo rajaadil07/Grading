{
 "cells": [
  {
   "cell_type": "code",
   "execution_count": null,
   "metadata": {},
   "outputs": [],
   "source": [
    "import time\n",
    "assignments = []\n",
    "totalScores = 0\n",
    "total_outOf = 0\n",
    "while True:\n",
    "    assignmentName = input(\"Assignment Name: \").title()\n",
    "    if assignmentName.lower() == 'quit':\n",
    "        time.sleep(2)\n",
    "        print('...')\n",
    "        print(\"Your grades have been Saved!\")\n",
    "        break\n",
    "    try:\n",
    "        score = int(input(\"Score: \"))\n",
    "    except ValueError:\n",
    "        print(\"Score value must be an integer.\")\n",
    "        continue\n",
    "    try:\n",
    "        outOf = int(input(\"Out of: \"))\n",
    "    except ValueError:\n",
    "        print(\"Score value must be an integer.\")\n",
    "        continue\n",
    "    assignments.append([assignmentName, score, outOf])\n",
    "    print(\"\")\n",
    "outOfLC = [stuff[-1] for stuff in assignments]\n",
    "scoreLC = [stuff[-2] for stuff in assignments]\n",
    "totals = sum(outOfLC)\n",
    "yourScore = sum(scoreLC)\n",
    "grades = yourScore/totals\n",
    "print(\"\")\n",
    "percentage = \"Percentage: {:.2%}\".format(grades)\n",
    "print(percentage)\n",
    "if grades >= .90:\n",
    "    grade = 'A'\n",
    "elif grades >= .80 and grades <= .8999:\n",
    "    grade = 'B'\n",
    "elif grades >= .70 and grades <= .7999:\n",
    "    grade = 'C'\n",
    "elif grades >= .60 and grades <= .6999:\n",
    "    grade = 'D'\n",
    "elif grades < .60:\n",
    "    grade = 'F'\n",
    "print(f\"Grade: {grade}\")\n",
    "print(\"\")\n",
    "assignment_item_one = [(f\"Assignment: {stuff[0]}\") for stuff in assignments]\n",
    "assignment_item_two = [(f\"Score: {stuff[-2]}\") for stuff in assignments]\n",
    "assignment_item_three = [(f\"Possible Points: {stuff[-1]}\") for stuff in assignments]\n",
    "for counter, things in enumerate(assignment_item_one, 1):\n",
    "    print(f\"Assignment {counter}: {things}\")\n",
    "print(\"\")\n",
    "for counter, things in enumerate(assignment_item_two, 1):\n",
    "    print(f\"Assignment {counter}: {things}\")\n",
    "print(\"\")\n",
    "for counter, things in enumerate(assignment_item_three, 1):\n",
    "    print(f\"Assignment {counter}: {things}\")"
   ]
  }
 ],
 "metadata": {
  "kernelspec": {
   "display_name": "Python 3",
   "language": "python",
   "name": "python3"
  },
  "language_info": {
   "codemirror_mode": {
    "name": "ipython",
    "version": 3
   },
   "file_extension": ".py",
   "mimetype": "text/x-python",
   "name": "python",
   "nbconvert_exporter": "python",
   "pygments_lexer": "ipython3",
   "version": "3.7.7"
  }
 },
 "nbformat": 4,
 "nbformat_minor": 4
}
